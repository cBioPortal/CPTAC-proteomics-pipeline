{
 "cells": [
  {
   "cell_type": "markdown",
   "metadata": {},
   "source": [
    "# Using the cBioPortal MS import scripts\n",
    "\n",
    "To add flexibility to the data import, a library of classes were constructed so that one class was made for every kind of file supported. This also gives more flexibility to support importing new types of mass spectrometry (MS) data. Though all the classes have docstrings, we thought that a Jupyter notebook tutorial was the best way to demonstrate usage cases using the data that is already uploaded from the CPTAC datasets and some test data for MaxQuant files."
   ]
  },
  {
   "cell_type": "code",
   "execution_count": 2,
   "metadata": {
    "collapsed": true
   },
   "outputs": [],
   "source": [
    "# import classes\n",
    "from ms2cbioportal import (CDAPiTraqTable, \n",
    "                           CDAPPrecursorAreaTable, \n",
    "                           MaxQuantProteomeTable, \n",
    "                           MaxQuantPTMTable, \n",
    "                           MSMeta)"
   ]
  },
  {
   "cell_type": "markdown",
   "metadata": {},
   "source": [
    "## CDAP iTRAQ and Precursor Area\n",
    "CPTAC uses the Common Data Analysis Pipeline (CDAP), which produces a common file format for MS data analyzed using it. iTRAQ and Precursor Area are mostly similar in their treatment, but a distinction is made because Precursor Area data needs to be log-transformed in order to fit a normal distribution of values. "
   ]
  },
  {
   "cell_type": "code",
   "execution_count": null,
   "metadata": {
    "collapsed": true
   },
   "outputs": [],
   "source": []
  }
 ],
 "metadata": {
  "kernelspec": {
   "display_name": "Python [network]",
   "language": "python",
   "name": "Python [network]"
  },
  "language_info": {
   "codemirror_mode": {
    "name": "ipython",
    "version": 3
   },
   "file_extension": ".py",
   "mimetype": "text/x-python",
   "name": "python",
   "nbconvert_exporter": "python",
   "pygments_lexer": "ipython3",
   "version": "3.5.2"
  }
 },
 "nbformat": 4,
 "nbformat_minor": 0
}
